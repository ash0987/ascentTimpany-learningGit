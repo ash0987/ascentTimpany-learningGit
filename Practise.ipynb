{
  "nbformat": 4,
  "nbformat_minor": 0,
  "metadata": {
    "colab": {
      "name": "Practise.ipynb",
      "provenance": [],
      "collapsed_sections": [],
      "mount_file_id": "1tQBHrHRbGZ56dfLQ5hXko4SP79xrlvAY",
      "authorship_tag": "ABX9TyP8L3thozsfarxmto6BgQz7",
      "include_colab_link": true
    },
    "kernelspec": {
      "name": "python3",
      "display_name": "Python 3"
    },
    "language_info": {
      "name": "python"
    }
  },
  "cells": [
    {
      "cell_type": "markdown",
      "metadata": {
        "id": "view-in-github",
        "colab_type": "text"
      },
      "source": [
        "<a href=\"https://colab.research.google.com/github/ash0987/ascentTimpany-learningGit/blob/master/Practise.ipynb\" target=\"_parent\"><img src=\"https://colab.research.google.com/assets/colab-badge.svg\" alt=\"Open In Colab\"/></a>"
      ]
    },
    {
      "cell_type": "code",
      "metadata": {
        "id": "_j6B-c78ndml"
      },
      "source": [
        "import pandas as pd"
      ],
      "execution_count": null,
      "outputs": []
    },
    {
      "cell_type": "code",
      "metadata": {
        "id": "mzTTakdFnwOO"
      },
      "source": [
        "df=pd.read_csv(\"/content/Salary_Data.csv\")"
      ],
      "execution_count": null,
      "outputs": []
    },
    {
      "cell_type": "code",
      "metadata": {
        "colab": {
          "base_uri": "https://localhost:8080/"
        },
        "id": "i4SZKtaKn00t",
        "outputId": "be8c9fae-56a7-46b9-aebf-3ffe223d577c"
      },
      "source": [
        "df.info()"
      ],
      "execution_count": null,
      "outputs": [
        {
          "output_type": "stream",
          "text": [
            "<class 'pandas.core.frame.DataFrame'>\n",
            "RangeIndex: 30 entries, 0 to 29\n",
            "Data columns (total 2 columns):\n",
            " #   Column           Non-Null Count  Dtype  \n",
            "---  ------           --------------  -----  \n",
            " 0   YearsExperience  30 non-null     float64\n",
            " 1   Salary           30 non-null     float64\n",
            "dtypes: float64(2)\n",
            "memory usage: 608.0 bytes\n"
          ],
          "name": "stdout"
        }
      ]
    },
    {
      "cell_type": "code",
      "metadata": {
        "id": "5bD165EBn3bV"
      },
      "source": [
        "m=(df-df.mean(axis=0))"
      ],
      "execution_count": null,
      "outputs": []
    },
    {
      "cell_type": "code",
      "metadata": {
        "id": "K6IKcs2UoL7_"
      },
      "source": [
        "m= m[\"YearsExperience\"]*m[\"Salary\"] "
      ],
      "execution_count": null,
      "outputs": []
    },
    {
      "cell_type": "code",
      "metadata": {
        "colab": {
          "base_uri": "https://localhost:8080/"
        },
        "id": "Qb2xBl3SohmU",
        "outputId": "99d348c6-1973-4af0-91f9-8fb6efa8744e"
      },
      "source": [
        "m=m.sum()\n",
        "m"
      ],
      "execution_count": null,
      "outputs": [
        {
          "output_type": "execute_result",
          "data": {
            "text/plain": [
              "2207082.8000000003"
            ]
          },
          "metadata": {
            "tags": []
          },
          "execution_count": 22
        }
      ]
    },
    {
      "cell_type": "code",
      "metadata": {
        "colab": {
          "base_uri": "https://localhost:8080/"
        },
        "id": "Vp9FMDyiok_q",
        "outputId": "3599f8d8-302f-4952-947f-d05b9363c2b7"
      },
      "source": [
        "m/((df[\"YearsExperience\"]-df[\"YearsExperience\"].mean())**2).sum()"
      ],
      "execution_count": null,
      "outputs": [
        {
          "output_type": "execute_result",
          "data": {
            "text/plain": [
              "9449.962321455077"
            ]
          },
          "metadata": {
            "tags": []
          },
          "execution_count": 21
        }
      ]
    },
    {
      "cell_type": "code",
      "metadata": {
        "colab": {
          "base_uri": "https://localhost:8080/",
          "height": 265
        },
        "id": "C26v-0lio2h1",
        "outputId": "152e837b-f04e-4741-a674-65ff0ef35d62"
      },
      "source": [
        "import matplotlib.pyplot as plt\n",
        "plt.scatter(df.iloc[:,0],df.iloc[:,1])\n",
        "plt.show()"
      ],
      "execution_count": null,
      "outputs": [
        {
          "output_type": "display_data",
          "data": {
            "image/png": "[encoded data removed]",
            "text/plain": [
              "<Figure size 432x288 with 1 Axes>"
            ]
          },
          "metadata": {
            "tags": [],
            "needs_background": "light"
          }
        }
      ]
    },
    {
      "cell_type": "code",
      "metadata": {
        "colab": {
          "base_uri": "https://localhost:8080/"
        },
        "id": "kDDywRFGq5H4",
        "outputId": "23857dff-33b9-4966-b411-7c17c43e7517"
      },
      "source": [
        "df.values"
      ],
      "execution_count": null,
      "outputs": [
        {
          "output_type": "execute_result",
          "data": {
            "text/plain": [
              "array([[1.10000e+00, 3.93430e+04],\n",
              "       [1.30000e+00, 4.62050e+04],\n",
              "       [1.50000e+00, 3.77310e+04],\n",
              "       [2.00000e+00, 4.35250e+04],\n",
              "       [2.20000e+00, 3.98910e+04],\n",
              "       [2.90000e+00, 5.66420e+04],\n",
              "       [3.00000e+00, 6.01500e+04],\n",
              "       [3.20000e+00, 5.44450e+04],\n",
              "       [3.20000e+00, 6.44450e+04],\n",
              "       [3.70000e+00, 5.71890e+04],\n",
              "       [3.90000e+00, 6.32180e+04],\n",
              "       [4.00000e+00, 5.57940e+04],\n",
              "       [4.00000e+00, 5.69570e+04],\n",
              "       [4.10000e+00, 5.70810e+04],\n",
              "       [4.50000e+00, 6.11110e+04],\n",
              "       [4.90000e+00, 6.79380e+04],\n",
              "       [5.10000e+00, 6.60290e+04],\n",
              "       [5.30000e+00, 8.30880e+04],\n",
              "       [5.90000e+00, 8.13630e+04],\n",
              "       [6.00000e+00, 9.39400e+04],\n",
              "       [6.80000e+00, 9.17380e+04],\n",
              "       [7.10000e+00, 9.82730e+04],\n",
              "       [7.90000e+00, 1.01302e+05],\n",
              "       [8.20000e+00, 1.13812e+05],\n",
              "       [8.70000e+00, 1.09431e+05],\n",
              "       [9.00000e+00, 1.05582e+05],\n",
              "       [9.50000e+00, 1.16969e+05],\n",
              "       [9.60000e+00, 1.12635e+05],\n",
              "       [1.03000e+01, 1.22391e+05],\n",
              "       [1.05000e+01, 1.21872e+05]])"
            ]
          },
          "metadata": {
            "tags": []
          },
          "execution_count": 29
        }
      ]
    },
    {
      "cell_type": "code",
      "metadata": {
        "colab": {
          "base_uri": "https://localhost:8080/"
        },
        "id": "fHykOEL3rQLm",
        "outputId": "7e9f52cf-138e-475e-f6f3-cac2986ad9c4"
      },
      "source": [
        "df.iloc[:,[0]].values"
      ],
      "execution_count": null,
      "outputs": [
        {
          "output_type": "execute_result",
          "data": {
            "text/plain": [
              "array([[ 1.1],\n",
              "       [ 1.3],\n",
              "       [ 1.5],\n",
              "       [ 2. ],\n",
              "       [ 2.2],\n",
              "       [ 2.9],\n",
              "       [ 3. ],\n",
              "       [ 3.2],\n",
              "       [ 3.2],\n",
              "       [ 3.7],\n",
              "       [ 3.9],\n",
              "       [ 4. ],\n",
              "       [ 4. ],\n",
              "       [ 4.1],\n",
              "       [ 4.5],\n",
              "       [ 4.9],\n",
              "       [ 5.1],\n",
              "       [ 5.3],\n",
              "       [ 5.9],\n",
              "       [ 6. ],\n",
              "       [ 6.8],\n",
              "       [ 7.1],\n",
              "       [ 7.9],\n",
              "       [ 8.2],\n",
              "       [ 8.7],\n",
              "       [ 9. ],\n",
              "       [ 9.5],\n",
              "       [ 9.6],\n",
              "       [10.3],\n",
              "       [10.5]])"
            ]
          },
          "metadata": {
            "tags": []
          },
          "execution_count": 42
        }
      ]
    },
    {
      "cell_type": "code",
      "metadata": {
        "id": "RmSaIPUFux_o"
      },
      "source": [
        ""
      ],
      "execution_count": null,
      "outputs": []
    }
  ]
}